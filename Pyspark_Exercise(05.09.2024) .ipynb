{
  "nbformat": 4,
  "nbformat_minor": 0,
  "metadata": {
    "colab": {
      "provenance": []
    },
    "kernelspec": {
      "name": "python3",
      "display_name": "Python 3"
    },
    "language_info": {
      "name": "python"
    }
  },
  "cells": [
    {
      "cell_type": "code",
      "execution_count": 1,
      "metadata": {
        "colab": {
          "base_uri": "https://localhost:8080/"
        },
        "id": "ndsX_NnBjkrz",
        "outputId": "42dde735-924e-4ed3-9c4d-2772cc7b0dee"
      },
      "outputs": [
        {
          "output_type": "stream",
          "name": "stdout",
          "text": [
            "Collecting pyspark\n",
            "  Downloading pyspark-3.5.2.tar.gz (317.3 MB)\n",
            "\u001b[2K     \u001b[90m━━━━━━━━━━━━━━━━━━━━━━━━━━━━━━━━━━━━━━━━\u001b[0m \u001b[32m317.3/317.3 MB\u001b[0m \u001b[31m4.6 MB/s\u001b[0m eta \u001b[36m0:00:00\u001b[0m\n",
            "\u001b[?25h  Preparing metadata (setup.py) ... \u001b[?25l\u001b[?25hdone\n",
            "Requirement already satisfied: py4j==0.10.9.7 in /usr/local/lib/python3.10/dist-packages (from pyspark) (0.10.9.7)\n",
            "Building wheels for collected packages: pyspark\n",
            "  Building wheel for pyspark (setup.py) ... \u001b[?25l\u001b[?25hdone\n",
            "  Created wheel for pyspark: filename=pyspark-3.5.2-py2.py3-none-any.whl size=317812365 sha256=15b3e08f28e45c478f638999e7f202f762b50e4cb60aeec692c80d29f238faf6\n",
            "  Stored in directory: /root/.cache/pip/wheels/34/34/bd/03944534c44b677cd5859f248090daa9fb27b3c8f8e5f49574\n",
            "Successfully built pyspark\n",
            "Installing collected packages: pyspark\n",
            "Successfully installed pyspark-3.5.2\n"
          ]
        }
      ],
      "source": [
        "pip install pyspark"
      ]
    },
    {
      "cell_type": "code",
      "source": [
        "import pyspark\n",
        "from pyspark.sql import SparkSession\n",
        "import pandas as pd\n",
        "\n",
        "# Initialize Spark Session\n",
        "spark = SparkSession.builder.appName(\"MySparkApp\").getOrCreate()\n",
        "\n",
        "# Create a new database in Spark SQL\n",
        "spark.sql(\"CREATE DATABASE IF NOT EXISTS my_database\")\n",
        "\n",
        "# Use the created database\n",
        "spark.sql(\"USE my_database\")\n",
        "\n",
        "# Verify that the database is being used\n",
        "spark.sql(\"SHOW DATABASES\").show()\n",
        "\n",
        "# Create a sample CSV data\n",
        "data = {\n",
        "    \"name\": [\"John\", \"Jane\", \"Mike\", \"Emily\", \"Alex\"],\n",
        "    \"age\": [28, 32, 45, 23, 36],\n",
        "    \"gender\": [\"Male\", \"Female\", \"Male\", \"Female\", \"Male\"],\n",
        "    \"salary\": [60000, 72000, 84000, 52000, 67000]\n",
        "}\n",
        "\n",
        "df = pd.DataFrame(data)\n",
        "\n",
        "# Save the DataFrame as a CSV file\n",
        "csv_file_path = \"/content/sample_people.csv\"\n",
        "df.to_csv(csv_file_path, index=False)\n",
        "\n",
        "# Confirm the CSV file is created\n",
        "print(f\"CSV file created at: {csv_file_path}\")\n",
        "\n",
        ""
      ],
      "metadata": {
        "colab": {
          "base_uri": "https://localhost:8080/"
        },
        "id": "70pgkiK9-3Yn",
        "outputId": "5e77e5d8-8abf-4214-8dc7-a5d85e1a87bf"
      },
      "execution_count": 5,
      "outputs": [
        {
          "output_type": "stream",
          "name": "stdout",
          "text": [
            "+-----------+\n",
            "|  namespace|\n",
            "+-----------+\n",
            "|    default|\n",
            "|my_database|\n",
            "+-----------+\n",
            "\n",
            "CSV file created at: /content/sample_people.csv\n"
          ]
        }
      ]
    },
    {
      "cell_type": "code",
      "source": [
        "from pyspark.sql import SparkSession\n",
        "from pyspark.sql.functions import col, when, avg, round\n",
        "\n",
        "# Initialize Spark Session\n",
        "spark = SparkSession.builder.appName(\"EmployeeSalaryETL\").getOrCreate()\n",
        "\n",
        "# Extract: Load the CSV file\n",
        "csv_file_path = \"/content/movie_data.csv\"\n",
        "df = spark.read.csv(csv_file_path, header=True, inferSchema=True)\n",
        "\n",
        "# Transform\n",
        "# 1. Filter: Include only employees aged 30 and above\n",
        "df_filtered = df.filter(col(\"age\") >= 30)\n",
        "\n",
        "# 2. Add New Column: Calculate 10% bonus\n",
        "df_with_bonus = df_filtered.withColumn(\"salary_with_bonus\",col(\"salary\") * 1.1)\n",
        "\n",
        "# 3. Aggregation: Compute average salary by gender\n",
        "avg_salary_by_gender = df_filtered.groupBy(\"gender\").agg(avg(\"salary\"), 2).alias(\"avg_salary\")\n",
        "\n",
        "# Load: Save the transformed data to Parquet\n",
        "output_path = \"/content/employee_data.parquet\"\n",
        "df_with_bonus.write.mode(\"overwrite\").parquet(output_path)\n",
        "\n",
        "# Display results\n",
        "print(\"Employees aged 30 and above with bonus:\")\n",
        "df_with_bonus.show()\n",
        "\n",
        "print(\"\\nAverage salary by gender:\")\n",
        "avg_salary_by_gender.show()\n"
      ],
      "metadata": {
        "colab": {
          "base_uri": "https://localhost:8080/"
        },
        "id": "6lNBzGly_oFL",
        "outputId": "74e260e7-7089-40a5-c9d6-fca92c278aa5"
      },
      "execution_count": 7,
      "outputs": [
        {
          "output_type": "stream",
          "name": "stdout",
          "text": [
            "Employees aged 30 and above with bonus:\n",
            "+----+---+------+------+-----------------+\n",
            "|name|age|gender|salary|salary_with_bonus|\n",
            "+----+---+------+------+-----------------+\n",
            "|Jane| 32|Female| 72000|          79200.0|\n",
            "|Mike| 45|  Male| 84000|          92400.0|\n",
            "|Alex| 36|  Male| 67000|          73700.0|\n",
            "+----+---+------+------+-----------------+\n",
            "\n",
            "\n",
            "Average salary by gender:\n",
            "+------+----------+\n",
            "|gender|avg_salary|\n",
            "+------+----------+\n",
            "|Female|   72000.0|\n",
            "|  Male|   75500.0|\n",
            "+------+----------+\n",
            "\n"
          ]
        }
      ]
    },
    {
      "cell_type": "code",
      "source": [
        "\n",
        "### **Exercise: PySpark Data Transformations on Movie Data**\n",
        "\n",
        "#### **Objective:**\n",
        "# You have a dataset containing movie details. The goal is to use PySpark to apply data transformations to derive insights.\n",
        "\n",
        "\n",
        "### **Tasks**:\n",
        "\n",
        "from pyspark.sql import SparkSession\n",
        "from pyspark.sql.functions import col, year, avg, round\n",
        "\n",
        "# Create a SparkSession\n",
        "spark = SparkSession.builder.appName(\"MovieDataAnalysis\").getOrCreate()\n",
        "\n",
        "# 1. Load the Dataset\n",
        "df = spark.read.csv(\"movie_data.csv\", header=True, inferSchema=True)\n",
        "\n",
        "# 2. Filter Movies by Genre\n",
        "sci_fi_movies = df.filter(col(\"genre\") == \"Sci-Fi\")\n",
        "print(\"Sci-Fi Movies:\")\n",
        "sci_fi_movies.show()\n",
        "\n",
        "# 3. Top-Rated Movies\n",
        "top_rated_movies = df.orderBy(col(\"rating\").desc()).limit(3)\n",
        "print(\"Top 3 Highest-Rated Movies:\")\n",
        "top_rated_movies.show()\n",
        "\n",
        "# 4. Movies Released After 2010\n",
        "movies_after_2010 = df.filter(year(col(\"date\")) > 2010)\n",
        "print(\"Movies Released After 2010:\")\n",
        "movies_after_2010.show()\n",
        "\n",
        "# 5. Calculate Average Box Office Collection by Genre\n",
        "avg_box_office_by_genre = df.groupBy(\"genre\").agg(avg(\"box_office\").alias(\"avg_box_office\"))\n",
        "print(\"Average Box Office Collection by Genre:\")\n",
        "avg_box_office_by_genre.show()\n",
        "\n",
        "# 6. Add a New Column for Box Office in Billions\n",
        "df_with_billions = df.withColumn(\"box_office_billions\", round(col(\"box_office\") / 1000000000, 2))\n",
        "print(\"Movies with Box Office in Billions:\")\n",
        "df_with_billions.show()\n",
        "\n",
        "# 7. Sort Movies by Box Office Collection\n",
        "sorted_movies = df.orderBy(col(\"box_office\").desc())\n",
        "print(\"Movies Sorted by Box Office Collection:\")\n",
        "sorted_movies.show()\n",
        "\n",
        "# 8. Count the Number of Movies per Genre\n",
        "movies_per_genre = df.groupBy(\"genre\").count()\n",
        "print(\"Number of Movies per Genre:\")\n",
        "movies_per_genre.show()\n",
        "\n",
        "# Stop the SparkSession\n",
        "spark.stop()"
      ],
      "metadata": {
        "colab": {
          "base_uri": "https://localhost:8080/"
        },
        "id": "wp3u_qb--CCs",
        "outputId": "aac40edb-da38-4761-b0ca-d37e276653f8"
      },
      "execution_count": 2,
      "outputs": [
        {
          "output_type": "stream",
          "name": "stdout",
          "text": [
            "Sci-Fi Movies:\n",
            "+--------+------------+------+------+----------+----------+\n",
            "|movie_id|       title| genre|rating|box_office|      date|\n",
            "+--------+------------+------+------+----------+----------+\n",
            "|       1|   Inception|Sci-Fi|   8.8| 830000000|2010-07-16|\n",
            "|       3|Interstellar|Sci-Fi|   8.6| 677000000|2014-11-07|\n",
            "+--------+------------+------+------+----------+----------+\n",
            "\n",
            "Top 3 Highest-Rated Movies:\n",
            "+--------+---------------+------+------+----------+----------+\n",
            "|movie_id|          title| genre|rating|box_office|      date|\n",
            "+--------+---------------+------+------+----------+----------+\n",
            "|       2|The Dark Knight|Action|   9.0|1004000000|2008-07-18|\n",
            "|       1|      Inception|Sci-Fi|   8.8| 830000000|2010-07-16|\n",
            "|       3|   Interstellar|Sci-Fi|   8.6| 677000000|2014-11-07|\n",
            "+--------+---------------+------+------+----------+----------+\n",
            "\n",
            "Movies Released After 2010:\n",
            "+--------+-----------------+---------+------+----------+----------+\n",
            "|movie_id|            title|    genre|rating|box_office|      date|\n",
            "+--------+-----------------+---------+------+----------+----------+\n",
            "|       3|     Interstellar|   Sci-Fi|   8.6| 677000000|2014-11-07|\n",
            "|       4|Avengers: Endgame|   Action|   8.4|2797000000|2019-04-26|\n",
            "|       6|      Toy Story 4|Animation|   7.8|1073000000|2019-06-21|\n",
            "|       7|        Frozen II|Animation|   7.0|1450000000|2019-11-22|\n",
            "|       8|            Joker|    Drama|   8.5|1074000000|2019-10-04|\n",
            "|       9|         Parasite|    Drama|   8.6| 258000000|2019-05-30|\n",
            "+--------+-----------------+---------+------+----------+----------+\n",
            "\n",
            "Average Box Office Collection by Genre:\n",
            "+---------+--------------------+\n",
            "|    genre|      avg_box_office|\n",
            "+---------+--------------------+\n",
            "|    Drama|              6.66E8|\n",
            "|Animation|1.3933333333333333E9|\n",
            "|   Action|            1.9005E9|\n",
            "|   Sci-Fi|             7.535E8|\n",
            "+---------+--------------------+\n",
            "\n",
            "Movies with Box Office in Billions:\n",
            "+--------+-----------------+---------+------+----------+----------+-------------------+\n",
            "|movie_id|            title|    genre|rating|box_office|      date|box_office_billions|\n",
            "+--------+-----------------+---------+------+----------+----------+-------------------+\n",
            "|       1|        Inception|   Sci-Fi|   8.8| 830000000|2010-07-16|               0.83|\n",
            "|       2|  The Dark Knight|   Action|   9.0|1004000000|2008-07-18|                1.0|\n",
            "|       3|     Interstellar|   Sci-Fi|   8.6| 677000000|2014-11-07|               0.68|\n",
            "|       4|Avengers: Endgame|   Action|   8.4|2797000000|2019-04-26|                2.8|\n",
            "|       5|    The Lion King|Animation|   8.5|1657000000|1994-06-15|               1.66|\n",
            "|       6|      Toy Story 4|Animation|   7.8|1073000000|2019-06-21|               1.07|\n",
            "|       7|        Frozen II|Animation|   7.0|1450000000|2019-11-22|               1.45|\n",
            "|       8|            Joker|    Drama|   8.5|1074000000|2019-10-04|               1.07|\n",
            "|       9|         Parasite|    Drama|   8.6| 258000000|2019-05-30|               0.26|\n",
            "+--------+-----------------+---------+------+----------+----------+-------------------+\n",
            "\n",
            "Movies Sorted by Box Office Collection:\n",
            "+--------+-----------------+---------+------+----------+----------+\n",
            "|movie_id|            title|    genre|rating|box_office|      date|\n",
            "+--------+-----------------+---------+------+----------+----------+\n",
            "|       4|Avengers: Endgame|   Action|   8.4|2797000000|2019-04-26|\n",
            "|       5|    The Lion King|Animation|   8.5|1657000000|1994-06-15|\n",
            "|       7|        Frozen II|Animation|   7.0|1450000000|2019-11-22|\n",
            "|       8|            Joker|    Drama|   8.5|1074000000|2019-10-04|\n",
            "|       6|      Toy Story 4|Animation|   7.8|1073000000|2019-06-21|\n",
            "|       2|  The Dark Knight|   Action|   9.0|1004000000|2008-07-18|\n",
            "|       1|        Inception|   Sci-Fi|   8.8| 830000000|2010-07-16|\n",
            "|       3|     Interstellar|   Sci-Fi|   8.6| 677000000|2014-11-07|\n",
            "|       9|         Parasite|    Drama|   8.6| 258000000|2019-05-30|\n",
            "+--------+-----------------+---------+------+----------+----------+\n",
            "\n",
            "Number of Movies per Genre:\n",
            "+---------+-----+\n",
            "|    genre|count|\n",
            "+---------+-----+\n",
            "|    Drama|    2|\n",
            "|Animation|    3|\n",
            "|   Action|    2|\n",
            "|   Sci-Fi|    2|\n",
            "+---------+-----+\n",
            "\n"
          ]
        }
      ]
    }
  ]
}
