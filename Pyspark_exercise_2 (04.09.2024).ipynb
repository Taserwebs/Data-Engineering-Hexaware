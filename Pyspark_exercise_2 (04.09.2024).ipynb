{
  "nbformat": 4,
  "nbformat_minor": 0,
  "metadata": {
    "colab": {
      "provenance": []
    },
    "kernelspec": {
      "name": "python3",
      "display_name": "Python 3"
    },
    "language_info": {
      "name": "python"
    }
  },
  "cells": [
    {
      "cell_type": "code",
      "execution_count": 1,
      "metadata": {
        "colab": {
          "base_uri": "https://localhost:8080/"
        },
        "id": "_5_b9wDJK_pk",
        "outputId": "983c8f9f-b9e8-4a06-d363-b7ed6fa586c2"
      },
      "outputs": [
        {
          "output_type": "stream",
          "name": "stdout",
          "text": [
            "Collecting pyspark\n",
            "  Downloading pyspark-3.5.2.tar.gz (317.3 MB)\n",
            "\u001b[2K     \u001b[90m━━━━━━━━━━━━━━━━━━━━━━━━━━━━━━━━━━━━━━━━\u001b[0m \u001b[32m317.3/317.3 MB\u001b[0m \u001b[31m3.5 MB/s\u001b[0m eta \u001b[36m0:00:00\u001b[0m\n",
            "\u001b[?25h  Preparing metadata (setup.py) ... \u001b[?25l\u001b[?25hdone\n",
            "Requirement already satisfied: py4j==0.10.9.7 in /usr/local/lib/python3.10/dist-packages (from pyspark) (0.10.9.7)\n",
            "Building wheels for collected packages: pyspark\n",
            "  Building wheel for pyspark (setup.py) ... \u001b[?25l\u001b[?25hdone\n",
            "  Created wheel for pyspark: filename=pyspark-3.5.2-py2.py3-none-any.whl size=317812365 sha256=c5bdaec8e5fb6ac051a25e4cd3455a9502008e0576c656c01341cdb6dfca7a2e\n",
            "  Stored in directory: /root/.cache/pip/wheels/34/34/bd/03944534c44b677cd5859f248090daa9fb27b3c8f8e5f49574\n",
            "Successfully built pyspark\n",
            "Installing collected packages: pyspark\n",
            "Successfully installed pyspark-3.5.2\n"
          ]
        }
      ],
      "source": [
        "pip install pyspark"
      ]
    },
    {
      "cell_type": "code",
      "source": [
        "from pyspark.sql import SparkSession\n",
        "from pyspark.sql.functions import col\n",
        "\n",
        "# Initialize a Spark session\n",
        "spark = SparkSession.builder \\\n",
        "    .appName(\"Employee Data Analysis\") \\\n",
        "    .getOrCreate()\n",
        "\n",
        "# Sample employee data\n",
        "data = [\n",
        "    (1, 'Arjun', 'IT', 75000),\n",
        "    (2, 'Vijay', 'Finance', 85000),\n",
        "    (3, 'Shalini', 'IT', 90000),\n",
        "    (4, 'Sneha', 'HR', 50000),\n",
        "    (5, 'Rahul', 'Finance', 60000),\n",
        "    (6, 'Amit', 'IT', 55000)\n",
        "]\n",
        "\n",
        "# Define schema (columns)\n",
        "columns = ['EmployeeID', 'EmployeeName', 'Department', 'Salary']\n",
        "\n",
        "# Create DataFrame\n",
        "employee_df = spark.createDataFrame(data, columns)\n",
        "\n",
        "# Show the DataFrame\n",
        "employee_df.show()"
      ],
      "metadata": {
        "colab": {
          "base_uri": "https://localhost:8080/"
        },
        "id": "8kIO0o0wLQym",
        "outputId": "3cd9d92c-7c7c-4823-a7fb-75f7eb714288"
      },
      "execution_count": null,
      "outputs": [
        {
          "output_type": "stream",
          "name": "stdout",
          "text": [
            "+----------+------------+----------+------+\n",
            "|EmployeeID|EmployeeName|Department|Salary|\n",
            "+----------+------------+----------+------+\n",
            "|         1|       Arjun|        IT| 75000|\n",
            "|         2|       Vijay|   Finance| 85000|\n",
            "|         3|     Shalini|        IT| 90000|\n",
            "|         4|       Sneha|        HR| 50000|\n",
            "|         5|       Rahul|   Finance| 60000|\n",
            "|         6|        Amit|        IT| 55000|\n",
            "+----------+------------+----------+------+\n",
            "\n"
          ]
        }
      ]
    },
    {
      "cell_type": "markdown",
      "source": [
        "Tasks"
      ],
      "metadata": {
        "id": "NoUwGyo28ci5"
      }
    },
    {
      "cell_type": "code",
      "source": [
        "# 1. **Task 1: Filter Employees by Salary**\n",
        "#   Filter the employees who have a salary greater than 60,000 and display the result.\n",
        "#   **Hint**: Use the `filter` method to filter based on the salary column.\n",
        "\n",
        "filtered_Salary_df = employee_df[employee_df[\"Salary\"] > 60000]\n",
        "filtered_Salary_df.show()\n",
        "\n",
        "\n",
        "# 2. **Task 2: Calculate the Average Salary by Department**\n",
        "#   Group the employees by department and calculate the average salary for each department.\n",
        "#   **Hint**: Use `groupBy` and `avg` functions.\n",
        "\n",
        "average_Salary_df = employee_df.groupBy(\"Department\").avg(\"Salary\")\n",
        "average_Salary_df.show()\n",
        "\n",
        "# 3. **Task 3: Sort Employees by Salary**\n",
        "#   Sort the employees in descending order of their salary.\n",
        "#  **Hint**: Use the `orderBy` function and sort by the `Salary` column.\n",
        "\n",
        "sorted_Salary_df = employee_df.orderBy(col(\"Salary\").desc())\n",
        "sorted_Salary_df.show()\n",
        "\n",
        "# 4. **Task 4: Add a Bonus Column**\n",
        "#   Add a new column called `Bonus` which should be 10% of the employee's salary.\n",
        "#   **Hint**: Use `withColumn` to add a new column.\n",
        "\n",
        "bonus_df = employee_df.withColumn(\"Bonus\", col(\"Salary\") * 0.1)\n",
        "bonus_df.show()"
      ],
      "metadata": {
        "colab": {
          "base_uri": "https://localhost:8080/"
        },
        "id": "QnLCptXoLiDy",
        "outputId": "2c0abb09-cf81-4a91-f7db-ba0e1adba4e3"
      },
      "execution_count": null,
      "outputs": [
        {
          "output_type": "stream",
          "name": "stdout",
          "text": [
            "+----------+------------+----------+------+\n",
            "|EmployeeID|EmployeeName|Department|Salary|\n",
            "+----------+------------+----------+------+\n",
            "|         1|       Arjun|        IT| 75000|\n",
            "|         2|       Vijay|   Finance| 85000|\n",
            "|         3|     Shalini|        IT| 90000|\n",
            "+----------+------------+----------+------+\n",
            "\n",
            "+----------+-----------------+\n",
            "|Department|      avg(Salary)|\n",
            "+----------+-----------------+\n",
            "|   Finance|          72500.0|\n",
            "|        IT|73333.33333333333|\n",
            "|        HR|          50000.0|\n",
            "+----------+-----------------+\n",
            "\n",
            "+----------+------------+----------+------+\n",
            "|EmployeeID|EmployeeName|Department|Salary|\n",
            "+----------+------------+----------+------+\n",
            "|         3|     Shalini|        IT| 90000|\n",
            "|         2|       Vijay|   Finance| 85000|\n",
            "|         1|       Arjun|        IT| 75000|\n",
            "|         5|       Rahul|   Finance| 60000|\n",
            "|         6|        Amit|        IT| 55000|\n",
            "|         4|       Sneha|        HR| 50000|\n",
            "+----------+------------+----------+------+\n",
            "\n",
            "+----------+------------+----------+------+------+\n",
            "|EmployeeID|EmployeeName|Department|Salary| Bonus|\n",
            "+----------+------------+----------+------+------+\n",
            "|         1|       Arjun|        IT| 75000|7500.0|\n",
            "|         2|       Vijay|   Finance| 85000|8500.0|\n",
            "|         3|     Shalini|        IT| 90000|9000.0|\n",
            "|         4|       Sneha|        HR| 50000|5000.0|\n",
            "|         5|       Rahul|   Finance| 60000|6000.0|\n",
            "|         6|        Amit|        IT| 55000|5500.0|\n",
            "+----------+------------+----------+------+------+\n",
            "\n"
          ]
        }
      ]
    },
    {
      "cell_type": "markdown",
      "source": [
        "Evening Exercises"
      ],
      "metadata": {
        "id": "R4ClqrfK3IoC"
      }
    },
    {
      "cell_type": "code",
      "source": [
        "from pyspark.sql import SparkSession\n",
        "from pyspark.sql import functions as F\n",
        "from pyspark.sql.window import Window\n",
        "from pyspark.sql.functions import rank, col, sum\n",
        "\n",
        "# Initialize a Spark session\n",
        "spark = SparkSession.builder \\\n",
        "    .appName(\"Advanced DataFrame Operations - Different Dataset\") \\\n",
        "    .getOrCreate()\n",
        "\n",
        "# Create two sample DataFrames for Product Sales\n",
        "data1 = [\n",
        "    (1, 'Product A', 'Electronics', 1200, '2022-05-10'),\n",
        "    (2, 'Product B', 'Clothing', 500, '2022-07-15'),\n",
        "    (3, 'Product C', 'Electronics', 1800, '2021-11-05')\n",
        "]\n",
        "\n",
        "data2 = [\n",
        "    (4, 'Product D', 'Furniture', 3000, '2022-03-25'),\n",
        "    (5, 'Product E', 'Clothing', 800, '2022-09-12'),\n",
        "    (6, 'Product F', 'Electronics', 1500, '2021-10-19')\n",
        "]\n",
        "\n",
        "# Define schema (columns)\n",
        "columns = ['ProductID', 'ProductName', 'Category', 'Price', 'SaleDate']\n",
        "\n",
        "# Create DataFrames\n",
        "sales_df1 = spark.createDataFrame(data1, columns)\n",
        "sales_df2 = spark.createDataFrame(data2, columns)\n",
        "\n",
        "# Show the DataFrames\n",
        "sales_df1.show()\n",
        "sales_df2.show()"
      ],
      "metadata": {
        "colab": {
          "base_uri": "https://localhost:8080/"
        },
        "id": "HQ_7c53R3IQe",
        "outputId": "786c6d51-99f8-4042-bf24-20f85283a47f"
      },
      "execution_count": 8,
      "outputs": [
        {
          "output_type": "stream",
          "name": "stdout",
          "text": [
            "+---------+-----------+-----------+-----+----------+\n",
            "|ProductID|ProductName|   Category|Price|  SaleDate|\n",
            "+---------+-----------+-----------+-----+----------+\n",
            "|        1|  Product A|Electronics| 1200|2022-05-10|\n",
            "|        2|  Product B|   Clothing|  500|2022-07-15|\n",
            "|        3|  Product C|Electronics| 1800|2021-11-05|\n",
            "+---------+-----------+-----------+-----+----------+\n",
            "\n",
            "+---------+-----------+-----------+-----+----------+\n",
            "|ProductID|ProductName|   Category|Price|  SaleDate|\n",
            "+---------+-----------+-----------+-----+----------+\n",
            "|        4|  Product D|  Furniture| 3000|2022-03-25|\n",
            "|        5|  Product E|   Clothing|  800|2022-09-12|\n",
            "|        6|  Product F|Electronics| 1500|2021-10-19|\n",
            "+---------+-----------+-----------+-----+----------+\n",
            "\n"
          ]
        }
      ]
    },
    {
      "cell_type": "markdown",
      "source": [
        "Tasks"
      ],
      "metadata": {
        "id": "XSN47ezE3gRX"
      }
    },
    {
      "cell_type": "code",
      "source": [
        "# 1. **Union of DataFrames (removing duplicates)**:\n",
        "#   Combine the two DataFrames (`sales_df1` and `sales_df2`) using `union` and remove any duplicate rows.\n",
        "union_df = sales_df1.union(sales_df2).dropDuplicates()\n",
        "print(\"Union of two dataframes (Remove duplicates): \")\n",
        "union_df.show()\n",
        "\n",
        "\n",
        "# 2. **Union of DataFrames (including duplicates)**:\n",
        "#   Combine both DataFrames using `unionAll` (replaced by `union`) and include duplicate rows.\n",
        "unionAll_df = sales_df1.unionAll(sales_df2)\n",
        "print(\"Union of two dataframes (Include duplicates): \")\n",
        "unionAll_df.show()\n",
        "\n",
        "\n",
        "\n",
        "# 3. **Rank products by price within their category**:\n",
        "#   Use window functions to rank the products in each category by price in descending order.\n",
        "window_spec = Window.partitionBy(\"Category\").orderBy(col(\"Price\").desc())\n",
        "ranked_df = unionAll_df.withColumn(\"Rank\", rank().over(window_spec))\n",
        "print(\"Rank products by price within their category: \")\n",
        "ranked_df.show()\n",
        "\n",
        "\n",
        "# 4. Calculate cumulative price per category\n",
        "window_spec_cum = Window.partitionBy(\"Category\").orderBy(F.desc(\"Price\")).rowsBetween(Window.unboundedPreceding, Window.currentRow)\n",
        "cumulative_df = unionAll_df.withColumn(\"CumulativePrice\", F.sum(\"Price\").over(window_spec_cum))\n",
        "print(\"Calculate cumulative price per category: \")\n",
        "cumulative_df.show()\n",
        "\n",
        "# 5. Convert `SaleDate` from string to date type\n",
        "date_converted_df = cumulative_df.withColumn(\"SaleDate\", F.to_date(\"SaleDate\", \"yyyy-MM-dd\"))\n",
        "print(\"Convert SaleDate from string to date type: \")\n",
        "date_converted_df.show()\n",
        "\n",
        "# 6. Calculate the number of days since each sale\n",
        "current_date = F.current_date()\n",
        "days_since_sale_df = date_converted_df.withColumn(\"DaysSinceSale\", F.datediff(current_date, \"SaleDate\"))\n",
        "print(\"Calculate the number of days since each sale: \")\n",
        "days_since_sale_df.show()\n",
        "\n",
        "# 7. Add a column for the next sale deadline (30 days after the SaleDate)\n",
        "next_sale_deadline_df = days_since_sale_df.withColumn(\"NextSaleDeadline\", F.date_add(\"SaleDate\", 30))\n",
        "print(\"Add a column for the next sale deadline (30 days after the SaleDate): \")\n",
        "next_sale_deadline_df.show()\n",
        "\n",
        "# 8. Calculate total revenue and average price per category\n",
        "revenue_avg_df = unionAll_df.groupBy(\"Category\").agg(\n",
        "    F.sum(\"Price\").alias(\"TotalRevenue\"),\n",
        "    F.avg(\"Price\").alias(\"AveragePrice\")\n",
        ")\n",
        "print(\"Calculate total revenue and average price per category: \")\n",
        "revenue_avg_df.show()\n",
        "\n",
        "# 9. Convert all product names to lowercase\n",
        "lowercase_names_df = next_sale_deadline_df.withColumn(\"ProductNameLower\", F.lower(\"ProductName\"))\n",
        "print(\"Convert all product names to lowercase: \")\n",
        "lowercase_names_df.show()\n",
        "\n",
        "\n"
      ],
      "metadata": {
        "colab": {
          "base_uri": "https://localhost:8080/"
        },
        "id": "p1lTfDx63ke5",
        "outputId": "309a1891-93b2-4ca3-f586-d9a469173ee6"
      },
      "execution_count": 11,
      "outputs": [
        {
          "output_type": "stream",
          "name": "stdout",
          "text": [
            "Union of two dataframes (Remove duplicates): \n",
            "+---------+-----------+-----------+-----+----------+\n",
            "|ProductID|ProductName|   Category|Price|  SaleDate|\n",
            "+---------+-----------+-----------+-----+----------+\n",
            "|        1|  Product A|Electronics| 1200|2022-05-10|\n",
            "|        2|  Product B|   Clothing|  500|2022-07-15|\n",
            "|        3|  Product C|Electronics| 1800|2021-11-05|\n",
            "|        4|  Product D|  Furniture| 3000|2022-03-25|\n",
            "|        6|  Product F|Electronics| 1500|2021-10-19|\n",
            "|        5|  Product E|   Clothing|  800|2022-09-12|\n",
            "+---------+-----------+-----------+-----+----------+\n",
            "\n",
            "Union of two dataframes (Include duplicates): \n",
            "+---------+-----------+-----------+-----+----------+\n",
            "|ProductID|ProductName|   Category|Price|  SaleDate|\n",
            "+---------+-----------+-----------+-----+----------+\n",
            "|        1|  Product A|Electronics| 1200|2022-05-10|\n",
            "|        2|  Product B|   Clothing|  500|2022-07-15|\n",
            "|        3|  Product C|Electronics| 1800|2021-11-05|\n",
            "|        4|  Product D|  Furniture| 3000|2022-03-25|\n",
            "|        5|  Product E|   Clothing|  800|2022-09-12|\n",
            "|        6|  Product F|Electronics| 1500|2021-10-19|\n",
            "+---------+-----------+-----------+-----+----------+\n",
            "\n",
            "Rank products by price within their category: \n",
            "+---------+-----------+-----------+-----+----------+----+\n",
            "|ProductID|ProductName|   Category|Price|  SaleDate|Rank|\n",
            "+---------+-----------+-----------+-----+----------+----+\n",
            "|        5|  Product E|   Clothing|  800|2022-09-12|   1|\n",
            "|        2|  Product B|   Clothing|  500|2022-07-15|   2|\n",
            "|        3|  Product C|Electronics| 1800|2021-11-05|   1|\n",
            "|        6|  Product F|Electronics| 1500|2021-10-19|   2|\n",
            "|        1|  Product A|Electronics| 1200|2022-05-10|   3|\n",
            "|        4|  Product D|  Furniture| 3000|2022-03-25|   1|\n",
            "+---------+-----------+-----------+-----+----------+----+\n",
            "\n",
            "Calculate cumulative price per category: \n",
            "+---------+-----------+-----------+-----+----------+---------------+\n",
            "|ProductID|ProductName|   Category|Price|  SaleDate|CumulativePrice|\n",
            "+---------+-----------+-----------+-----+----------+---------------+\n",
            "|        5|  Product E|   Clothing|  800|2022-09-12|            800|\n",
            "|        2|  Product B|   Clothing|  500|2022-07-15|           1300|\n",
            "|        3|  Product C|Electronics| 1800|2021-11-05|           1800|\n",
            "|        6|  Product F|Electronics| 1500|2021-10-19|           3300|\n",
            "|        1|  Product A|Electronics| 1200|2022-05-10|           4500|\n",
            "|        4|  Product D|  Furniture| 3000|2022-03-25|           3000|\n",
            "+---------+-----------+-----------+-----+----------+---------------+\n",
            "\n",
            "Convert SaleDate from string to date type: \n",
            "+---------+-----------+-----------+-----+----------+---------------+\n",
            "|ProductID|ProductName|   Category|Price|  SaleDate|CumulativePrice|\n",
            "+---------+-----------+-----------+-----+----------+---------------+\n",
            "|        5|  Product E|   Clothing|  800|2022-09-12|            800|\n",
            "|        2|  Product B|   Clothing|  500|2022-07-15|           1300|\n",
            "|        3|  Product C|Electronics| 1800|2021-11-05|           1800|\n",
            "|        6|  Product F|Electronics| 1500|2021-10-19|           3300|\n",
            "|        1|  Product A|Electronics| 1200|2022-05-10|           4500|\n",
            "|        4|  Product D|  Furniture| 3000|2022-03-25|           3000|\n",
            "+---------+-----------+-----------+-----+----------+---------------+\n",
            "\n",
            "Calculate the number of days since each sale: \n",
            "+---------+-----------+-----------+-----+----------+---------------+-------------+\n",
            "|ProductID|ProductName|   Category|Price|  SaleDate|CumulativePrice|DaysSinceSale|\n",
            "+---------+-----------+-----------+-----+----------+---------------+-------------+\n",
            "|        5|  Product E|   Clothing|  800|2022-09-12|            800|          723|\n",
            "|        2|  Product B|   Clothing|  500|2022-07-15|           1300|          782|\n",
            "|        3|  Product C|Electronics| 1800|2021-11-05|           1800|         1034|\n",
            "|        6|  Product F|Electronics| 1500|2021-10-19|           3300|         1051|\n",
            "|        1|  Product A|Electronics| 1200|2022-05-10|           4500|          848|\n",
            "|        4|  Product D|  Furniture| 3000|2022-03-25|           3000|          894|\n",
            "+---------+-----------+-----------+-----+----------+---------------+-------------+\n",
            "\n",
            "Add a column for the next sale deadline (30 days after the SaleDate): \n",
            "+---------+-----------+-----------+-----+----------+---------------+-------------+----------------+\n",
            "|ProductID|ProductName|   Category|Price|  SaleDate|CumulativePrice|DaysSinceSale|NextSaleDeadline|\n",
            "+---------+-----------+-----------+-----+----------+---------------+-------------+----------------+\n",
            "|        5|  Product E|   Clothing|  800|2022-09-12|            800|          723|      2022-10-12|\n",
            "|        2|  Product B|   Clothing|  500|2022-07-15|           1300|          782|      2022-08-14|\n",
            "|        3|  Product C|Electronics| 1800|2021-11-05|           1800|         1034|      2021-12-05|\n",
            "|        6|  Product F|Electronics| 1500|2021-10-19|           3300|         1051|      2021-11-18|\n",
            "|        1|  Product A|Electronics| 1200|2022-05-10|           4500|          848|      2022-06-09|\n",
            "|        4|  Product D|  Furniture| 3000|2022-03-25|           3000|          894|      2022-04-24|\n",
            "+---------+-----------+-----------+-----+----------+---------------+-------------+----------------+\n",
            "\n",
            "Calculate total revenue and average price per category: \n",
            "+-----------+------------+------------+\n",
            "|   Category|TotalRevenue|AveragePrice|\n",
            "+-----------+------------+------------+\n",
            "|Electronics|        4500|      1500.0|\n",
            "|   Clothing|        1300|       650.0|\n",
            "|  Furniture|        3000|      3000.0|\n",
            "+-----------+------------+------------+\n",
            "\n",
            "Convert all product names to lowercase: \n",
            "+---------+-----------+-----------+-----+----------+---------------+-------------+----------------+----------------+\n",
            "|ProductID|ProductName|   Category|Price|  SaleDate|CumulativePrice|DaysSinceSale|NextSaleDeadline|ProductNameLower|\n",
            "+---------+-----------+-----------+-----+----------+---------------+-------------+----------------+----------------+\n",
            "|        5|  Product E|   Clothing|  800|2022-09-12|            800|          723|      2022-10-12|       product e|\n",
            "|        2|  Product B|   Clothing|  500|2022-07-15|           1300|          782|      2022-08-14|       product b|\n",
            "|        3|  Product C|Electronics| 1800|2021-11-05|           1800|         1034|      2021-12-05|       product c|\n",
            "|        6|  Product F|Electronics| 1500|2021-10-19|           3300|         1051|      2021-11-18|       product f|\n",
            "|        1|  Product A|Electronics| 1200|2022-05-10|           4500|          848|      2022-06-09|       product a|\n",
            "|        4|  Product D|  Furniture| 3000|2022-03-25|           3000|          894|      2022-04-24|       product d|\n",
            "+---------+-----------+-----------+-----+----------+---------------+-------------+----------------+----------------+\n",
            "\n"
          ]
        }
      ]
    }
  ]
}
