{
 "cells": [
  {
   "cell_type": "code",
   "execution_count": 0,
   "metadata": {
    "application/vnd.databricks.v1+cell": {
     "cellMetadata": {
      "byteLimit": 2048000,
      "rowLimit": 10000
     },
     "inputWidgets": {},
     "nuid": "2db8ee14-0010-45be-9289-7daf83f05050",
     "showTitle": false,
     "title": ""
    }
   },
   "outputs": [
    {
     "output_type": "display_data",
     "data": {
      "text/html": [
       "<style scoped>\n",
       "  .table-result-container {\n",
       "    max-height: 300px;\n",
       "    overflow: auto;\n",
       "  }\n",
       "  table, th, td {\n",
       "    border: 1px solid black;\n",
       "    border-collapse: collapse;\n",
       "  }\n",
       "  th, td {\n",
       "    padding: 5px;\n",
       "  }\n",
       "  th {\n",
       "    text-align: left;\n",
       "  }\n",
       "</style><div class='table-result-container'><table class='table-result'><thead style='background-color: white'><tr><th>FL_DATE</th><th>CARRIER</th><th>ORIGIN</th><th>DEST</th><th>DEP_DELAY</th><th>ARR_DELAY</th></tr></thead><tbody><tr><td>2023-09-01</td><td>AA</td><td>ATL</td><td>DFW</td><td>5</td><td>10</td></tr><tr><td>2023-09-01</td><td>UA</td><td>LAX</td><td>JFK</td><td>-3</td><td>0</td></tr><tr><td>2023-09-01</td><td>DL</td><td>SFO</td><td>ORD</td><td>7</td><td>15</td></tr><tr><td>2023-09-02</td><td>AA</td><td>DFW</td><td>LAX</td><td>0</td><td>-5</td></tr><tr><td>2023-09-02</td><td>UA</td><td>JFK</td><td>ATL</td><td>-2</td><td>0</td></tr><tr><td>2023-09-02</td><td>DL</td><td>ORD</td><td>LAX</td><td>20</td><td>30</td></tr><tr><td>2023-09-03</td><td>AA</td><td>LAX</td><td>SFO</td><td>10</td><td>12</td></tr><tr><td>2023-09-03</td><td>UA</td><td>ATL</td><td>ORD</td><td>0</td><td>-10</td></tr><tr><td>2023-09-03</td><td>DL</td><td>SFO</td><td>JFK</td><td>5</td><td>25</td></tr><tr><td>2023-09-04</td><td>AA</td><td>JFK</td><td>LAX</td><td>0</td><td>0</td></tr><tr><td>2023-09-04</td><td>UA</td><td>ORD</td><td>ATL</td><td>15</td><td>20</td></tr><tr><td>2023-09-04</td><td>DL</td><td>LAX</td><td>SFO</td><td>-5</td><td>-10</td></tr><tr><td>2023-09-05</td><td>AA</td><td>LAX</td><td>JFK</td><td>20</td><td>25</td></tr><tr><td>2023-09-05</td><td>UA</td><td>DFW</td><td>ATL</td><td>0</td><td>0</td></tr><tr><td>2023-09-05</td><td>DL</td><td>JFK</td><td>LAX</td><td>10</td><td>15</td></tr></tbody></table></div>"
      ]
     },
     "metadata": {
      "application/vnd.databricks.v1+output": {
       "addedWidgets": {},
       "aggData": [],
       "aggError": "",
       "aggOverflow": false,
       "aggSchema": [],
       "aggSeriesLimitReached": false,
       "aggType": "",
       "arguments": {},
       "columnCustomDisplayInfos": {},
       "data": [
        [
         "2023-09-01",
         "AA",
         "ATL",
         "DFW",
         5,
         10
        ],
        [
         "2023-09-01",
         "UA",
         "LAX",
         "JFK",
         -3,
         0
        ],
        [
         "2023-09-01",
         "DL",
         "SFO",
         "ORD",
         7,
         15
        ],
        [
         "2023-09-02",
         "AA",
         "DFW",
         "LAX",
         0,
         -5
        ],
        [
         "2023-09-02",
         "UA",
         "JFK",
         "ATL",
         -2,
         0
        ],
        [
         "2023-09-02",
         "DL",
         "ORD",
         "LAX",
         20,
         30
        ],
        [
         "2023-09-03",
         "AA",
         "LAX",
         "SFO",
         10,
         12
        ],
        [
         "2023-09-03",
         "UA",
         "ATL",
         "ORD",
         0,
         -10
        ],
        [
         "2023-09-03",
         "DL",
         "SFO",
         "JFK",
         5,
         25
        ],
        [
         "2023-09-04",
         "AA",
         "JFK",
         "LAX",
         0,
         0
        ],
        [
         "2023-09-04",
         "UA",
         "ORD",
         "ATL",
         15,
         20
        ],
        [
         "2023-09-04",
         "DL",
         "LAX",
         "SFO",
         -5,
         -10
        ],
        [
         "2023-09-05",
         "AA",
         "LAX",
         "JFK",
         20,
         25
        ],
        [
         "2023-09-05",
         "UA",
         "DFW",
         "ATL",
         0,
         0
        ],
        [
         "2023-09-05",
         "DL",
         "JFK",
         "LAX",
         10,
         15
        ]
       ],
       "datasetInfos": [],
       "dbfsResultPath": null,
       "isJsonSchema": true,
       "metadata": {},
       "overflow": false,
       "plotOptions": {
        "customPlotOptions": {},
        "displayType": "table",
        "pivotAggregation": null,
        "pivotColumns": null,
        "xColumns": null,
        "yColumns": null
       },
       "removedWidgets": [],
       "schema": [
        {
         "metadata": "{\"__detected_date_formats\":\"yyyy-M-d\"}",
         "name": "FL_DATE",
         "type": "\"date\""
        },
        {
         "metadata": "{}",
         "name": "CARRIER",
         "type": "\"string\""
        },
        {
         "metadata": "{}",
         "name": "ORIGIN",
         "type": "\"string\""
        },
        {
         "metadata": "{}",
         "name": "DEST",
         "type": "\"string\""
        },
        {
         "metadata": "{}",
         "name": "DEP_DELAY",
         "type": "\"integer\""
        },
        {
         "metadata": "{}",
         "name": "ARR_DELAY",
         "type": "\"integer\""
        }
       ],
       "type": "table"
      }
     },
     "output_type": "display_data"
    }
   ],
   "source": [
    "df = spark.read.format(\"csv\").option(\"header\", \"true\").option(\"inferSchema\", \"true\").load(\"file:/Workspace/Shared/data.csv\")\n",
    "display(df)\n"
   ]
  },
  {
   "cell_type": "markdown",
   "metadata": {
    "application/vnd.databricks.v1+cell": {
     "cellMetadata": {},
     "inputWidgets": {},
     "nuid": "646c66be-1715-4ddc-a89f-f2c59bbe98e7",
     "showTitle": false,
     "title": ""
    }
   },
   "source": [
    "Task 2 : Data Cleaning\n",
    "Drop any rows containing null values\n",
    "Filter out the rows where a specific column (e.g., ARR_DELAY) is less than or equal to zero"
   ]
  },
  {
   "cell_type": "code",
   "execution_count": 0,
   "metadata": {
    "application/vnd.databricks.v1+cell": {
     "cellMetadata": {
      "byteLimit": 2048000,
      "rowLimit": 10000
     },
     "inputWidgets": {},
     "nuid": "197b6da1-b5f5-43d8-8a66-e28c74976192",
     "showTitle": false,
     "title": ""
    }
   },
   "outputs": [
    {
     "output_type": "display_data",
     "data": {
      "text/html": [
       "<style scoped>\n",
       "  .table-result-container {\n",
       "    max-height: 300px;\n",
       "    overflow: auto;\n",
       "  }\n",
       "  table, th, td {\n",
       "    border: 1px solid black;\n",
       "    border-collapse: collapse;\n",
       "  }\n",
       "  th, td {\n",
       "    padding: 5px;\n",
       "  }\n",
       "  th {\n",
       "    text-align: left;\n",
       "  }\n",
       "</style><div class='table-result-container'><table class='table-result'><thead style='background-color: white'><tr><th>FL_DATE</th><th>CARRIER</th><th>ORIGIN</th><th>DEST</th><th>DEP_DELAY</th><th>ARR_DELAY</th></tr></thead><tbody><tr><td>2023-09-01</td><td>AA</td><td>ATL</td><td>DFW</td><td>5</td><td>10</td></tr><tr><td>2023-09-01</td><td>DL</td><td>SFO</td><td>ORD</td><td>7</td><td>15</td></tr><tr><td>2023-09-02</td><td>DL</td><td>ORD</td><td>LAX</td><td>20</td><td>30</td></tr><tr><td>2023-09-03</td><td>AA</td><td>LAX</td><td>SFO</td><td>10</td><td>12</td></tr><tr><td>2023-09-03</td><td>DL</td><td>SFO</td><td>JFK</td><td>5</td><td>25</td></tr><tr><td>2023-09-04</td><td>UA</td><td>ORD</td><td>ATL</td><td>15</td><td>20</td></tr><tr><td>2023-09-05</td><td>AA</td><td>LAX</td><td>JFK</td><td>20</td><td>25</td></tr><tr><td>2023-09-05</td><td>DL</td><td>JFK</td><td>LAX</td><td>10</td><td>15</td></tr></tbody></table></div>"
      ]
     },
     "metadata": {
      "application/vnd.databricks.v1+output": {
       "addedWidgets": {},
       "aggData": [],
       "aggError": "",
       "aggOverflow": false,
       "aggSchema": [],
       "aggSeriesLimitReached": false,
       "aggType": "",
       "arguments": {},
       "columnCustomDisplayInfos": {},
       "data": [
        [
         "2023-09-01",
         "AA",
         "ATL",
         "DFW",
         "5",
         "10"
        ],
        [
         "2023-09-01",
         "DL",
         "SFO",
         "ORD",
         "7",
         "15"
        ],
        [
         "2023-09-02",
         "DL",
         "ORD",
         "LAX",
         "20",
         "30"
        ],
        [
         "2023-09-03",
         "AA",
         "LAX",
         "SFO",
         "10",
         "12"
        ],
        [
         "2023-09-03",
         "DL",
         "SFO",
         "JFK",
         "5",
         "25"
        ],
        [
         "2023-09-04",
         "UA",
         "ORD",
         "ATL",
         "15",
         "20"
        ],
        [
         "2023-09-05",
         "AA",
         "LAX",
         "JFK",
         "20",
         "25"
        ],
        [
         "2023-09-05",
         "DL",
         "JFK",
         "LAX",
         "10",
         "15"
        ]
       ],
       "datasetInfos": [],
       "dbfsResultPath": null,
       "isJsonSchema": true,
       "metadata": {},
       "overflow": false,
       "plotOptions": {
        "customPlotOptions": {},
        "displayType": "table",
        "pivotAggregation": null,
        "pivotColumns": null,
        "xColumns": null,
        "yColumns": null
       },
       "removedWidgets": [],
       "schema": [
        {
         "metadata": "{}",
         "name": "FL_DATE",
         "type": "\"string\""
        },
        {
         "metadata": "{}",
         "name": "CARRIER",
         "type": "\"string\""
        },
        {
         "metadata": "{}",
         "name": "ORIGIN",
         "type": "\"string\""
        },
        {
         "metadata": "{}",
         "name": "DEST",
         "type": "\"string\""
        },
        {
         "metadata": "{}",
         "name": "DEP_DELAY",
         "type": "\"string\""
        },
        {
         "metadata": "{}",
         "name": "ARR_DELAY",
         "type": "\"string\""
        }
       ],
       "type": "table"
      }
     },
     "output_type": "display_data"
    }
   ],
   "source": [
    "df_cleaned = df.na.drop().filter(df.ARR_DELAY > 0)\n",
    "display(df_cleaned)"
   ]
  },
  {
   "cell_type": "markdown",
   "metadata": {
    "application/vnd.databricks.v1+cell": {
     "cellMetadata": {},
     "inputWidgets": {},
     "nuid": "f6a15d82-8206-4b38-981f-752d285c2b48",
     "showTitle": false,
     "title": ""
    }
   },
   "source": [
    "Task 3:\n",
    "Aggregation and Summary Statistics\n",
    "Group the data by a categorical column (e.g., CARRIER) and calculate the average value of a numerical column (e.g. ,\n",
    "ARR DELAY) .\n",
    "Find the minimum, maximum, and mean values Eor a numerical column (e .g. , ARR DELAY)"
   ]
  },
  {
   "cell_type": "code",
   "execution_count": 0,
   "metadata": {
    "application/vnd.databricks.v1+cell": {
     "cellMetadata": {
      "byteLimit": 2048000,
      "rowLimit": 10000
     },
     "inputWidgets": {},
     "nuid": "76bbabe3-1d30-4e32-bb9c-a9a7795db81c",
     "showTitle": false,
     "title": ""
    }
   },
   "outputs": [
    {
     "output_type": "display_data",
     "data": {
      "text/html": [
       "<style scoped>\n",
       "  .table-result-container {\n",
       "    max-height: 300px;\n",
       "    overflow: auto;\n",
       "  }\n",
       "  table, th, td {\n",
       "    border: 1px solid black;\n",
       "    border-collapse: collapse;\n",
       "  }\n",
       "  th, td {\n",
       "    padding: 5px;\n",
       "  }\n",
       "  th {\n",
       "    text-align: left;\n",
       "  }\n",
       "</style><div class='table-result-container'><table class='table-result'><thead style='background-color: white'><tr><th>CARRIER</th><th>avg_arr_delay</th></tr></thead><tbody><tr><td>UA</td><td>2.0</td></tr><tr><td>AA</td><td>8.4</td></tr><tr><td>DL</td><td>15.0</td></tr></tbody></table></div>"
      ]
     },
     "metadata": {
      "application/vnd.databricks.v1+output": {
       "addedWidgets": {},
       "aggData": [],
       "aggError": "",
       "aggOverflow": false,
       "aggSchema": [],
       "aggSeriesLimitReached": false,
       "aggType": "",
       "arguments": {},
       "columnCustomDisplayInfos": {},
       "data": [
        [
         "UA",
         2.0
        ],
        [
         "AA",
         8.4
        ],
        [
         "DL",
         15.0
        ]
       ],
       "datasetInfos": [],
       "dbfsResultPath": null,
       "isJsonSchema": true,
       "metadata": {},
       "overflow": false,
       "plotOptions": {
        "customPlotOptions": {},
        "displayType": "table",
        "pivotAggregation": null,
        "pivotColumns": null,
        "xColumns": null,
        "yColumns": null
       },
       "removedWidgets": [],
       "schema": [
        {
         "metadata": "{}",
         "name": "CARRIER",
         "type": "\"string\""
        },
        {
         "metadata": "{}",
         "name": "avg_arr_delay",
         "type": "\"double\""
        }
       ],
       "type": "table"
      }
     },
     "output_type": "display_data"
    },
    {
     "output_type": "display_data",
     "data": {
      "text/html": [
       "<style scoped>\n",
       "  .table-result-container {\n",
       "    max-height: 300px;\n",
       "    overflow: auto;\n",
       "  }\n",
       "  table, th, td {\n",
       "    border: 1px solid black;\n",
       "    border-collapse: collapse;\n",
       "  }\n",
       "  th, td {\n",
       "    padding: 5px;\n",
       "  }\n",
       "  th {\n",
       "    text-align: left;\n",
       "  }\n",
       "</style><div class='table-result-container'><table class='table-result'><thead style='background-color: white'><tr><th>min_arr_delay</th><th>max_arr_delay</th><th>mean_arr_delay</th></tr></thead><tbody><tr><td>-10</td><td>30</td><td>8.466666666666667</td></tr></tbody></table></div>"
      ]
     },
     "metadata": {
      "application/vnd.databricks.v1+output": {
       "addedWidgets": {},
       "aggData": [],
       "aggError": "",
       "aggOverflow": false,
       "aggSchema": [],
       "aggSeriesLimitReached": false,
       "aggType": "",
       "arguments": {},
       "columnCustomDisplayInfos": {},
       "data": [
        [
         "-10",
         "30",
         8.466666666666667
        ]
       ],
       "datasetInfos": [],
       "dbfsResultPath": null,
       "isJsonSchema": true,
       "metadata": {},
       "overflow": false,
       "plotOptions": {
        "customPlotOptions": {},
        "displayType": "table",
        "pivotAggregation": null,
        "pivotColumns": null,
        "xColumns": null,
        "yColumns": null
       },
       "removedWidgets": [],
       "schema": [
        {
         "metadata": "{}",
         "name": "min_arr_delay",
         "type": "\"string\""
        },
        {
         "metadata": "{}",
         "name": "max_arr_delay",
         "type": "\"string\""
        },
        {
         "metadata": "{}",
         "name": "mean_arr_delay",
         "type": "\"double\""
        }
       ],
       "type": "table"
      }
     },
     "output_type": "display_data"
    }
   ],
   "source": [
    "from pyspark.sql import functions as F\n",
    "\n",
    "# Grouping the data by 'CARRIER' and calculating the average 'ARR_DELAY'\n",
    "avg_delay_per_carrier = df.groupBy(\"CARRIER\").agg(F.avg(\"ARR_DELAY\").alias(\"avg_arr_delay\"))\n",
    "\n",
    "# Calculating minimum, maximum, and mean values for 'ARR_DELAY'\n",
    "agg_arr_delay = df.agg(\n",
    "    F.min(\"ARR_DELAY\").alias(\"min_arr_delay\"),\n",
    "    F.max(\"ARR_DELAY\").alias(\"max_arr_delay\"),\n",
    "    F.mean(\"ARR_DELAY\").alias(\"mean_arr_delay\")\n",
    ")\n",
    "\n",
    "display(avg_delay_per_carrier)\n",
    "display(agg_arr_delay)"
   ]
  },
  {
   "cell_type": "markdown",
   "metadata": {
    "application/vnd.databricks.v1+cell": {
     "cellMetadata": {},
     "inputWidgets": {},
     "nuid": "0487133f-1156-4758-b495-0a3f2d3c212d",
     "showTitle": false,
     "title": ""
    }
   },
   "source": [
    "Task 4: Data Visualization\n",
    "Use Databricks' built-in visualizations to create a bar chart showing the total count of entries for each category\n",
    "(e.g., total number Of flights per CARRIER) ,\n",
    "Create a histogram that shows the distribution Of a numerical column (e . g. , distribution Of ARR DELAY) ."
   ]
  },
  {
   "cell_type": "code",
   "execution_count": 0,
   "metadata": {
    "application/vnd.databricks.v1+cell": {
     "cellMetadata": {
      "byteLimit": 2048000,
      "rowLimit": 10000
     },
     "inputWidgets": {},
     "nuid": "b1701743-0447-4fc8-979c-7cf6ffe69a42",
     "showTitle": false,
     "title": ""
    }
   },
   "outputs": [
    {
     "output_type": "display_data",
     "data": {
      "text/html": [
       "<style scoped>\n",
       "  .table-result-container {\n",
       "    max-height: 300px;\n",
       "    overflow: auto;\n",
       "  }\n",
       "  table, th, td {\n",
       "    border: 1px solid black;\n",
       "    border-collapse: collapse;\n",
       "  }\n",
       "  th, td {\n",
       "    padding: 5px;\n",
       "  }\n",
       "  th {\n",
       "    text-align: left;\n",
       "  }\n",
       "</style><div class='table-result-container'><table class='table-result'><thead style='background-color: white'><tr><th>CARRIER</th><th>count</th></tr></thead><tbody><tr><td>UA</td><td>5</td></tr><tr><td>AA</td><td>5</td></tr><tr><td>DL</td><td>5</td></tr></tbody></table></div>"
      ]
     },
     "metadata": {
      "application/vnd.databricks.v1+output": {
       "addedWidgets": {},
       "aggData": [],
       "aggError": "",
       "aggOverflow": false,
       "aggSchema": [],
       "aggSeriesLimitReached": false,
       "aggType": "",
       "arguments": {},
       "columnCustomDisplayInfos": {},
       "data": [
        [
         "UA",
         5
        ],
        [
         "AA",
         5
        ],
        [
         "DL",
         5
        ]
       ],
       "datasetInfos": [],
       "dbfsResultPath": null,
       "isJsonSchema": true,
       "metadata": {},
       "overflow": false,
       "plotOptions": {
        "customPlotOptions": {},
        "displayType": "table",
        "pivotAggregation": null,
        "pivotColumns": null,
        "xColumns": null,
        "yColumns": null
       },
       "removedWidgets": [],
       "schema": [
        {
         "metadata": "{}",
         "name": "CARRIER",
         "type": "\"string\""
        },
        {
         "metadata": "{}",
         "name": "count",
         "type": "\"long\""
        }
       ],
       "type": "table"
      }
     },
     "output_type": "display_data"
    },
    {
     "output_type": "display_data",
     "data": {
      "text/html": [
       "<style scoped>\n",
       "  .table-result-container {\n",
       "    max-height: 300px;\n",
       "    overflow: auto;\n",
       "  }\n",
       "  table, th, td {\n",
       "    border: 1px solid black;\n",
       "    border-collapse: collapse;\n",
       "  }\n",
       "  th, td {\n",
       "    padding: 5px;\n",
       "  }\n",
       "  th {\n",
       "    text-align: left;\n",
       "  }\n",
       "</style><div class='table-result-container'><table class='table-result'><thead style='background-color: white'><tr><th>ARR_DELAY</th></tr></thead><tbody><tr><td>10</td></tr><tr><td>0</td></tr><tr><td>15</td></tr><tr><td>-5</td></tr><tr><td>0</td></tr><tr><td>30</td></tr><tr><td>12</td></tr><tr><td>-10</td></tr><tr><td>25</td></tr><tr><td>0</td></tr><tr><td>20</td></tr><tr><td>-10</td></tr><tr><td>25</td></tr><tr><td>0</td></tr><tr><td>15</td></tr></tbody></table></div>"
      ]
     },
     "metadata": {
      "application/vnd.databricks.v1+output": {
       "addedWidgets": {},
       "aggData": [],
       "aggError": "",
       "aggOverflow": false,
       "aggSchema": [],
       "aggSeriesLimitReached": false,
       "aggType": "",
       "arguments": {},
       "columnCustomDisplayInfos": {},
       "data": [
        [
         "10"
        ],
        [
         "0"
        ],
        [
         "15"
        ],
        [
         "-5"
        ],
        [
         "0"
        ],
        [
         "30"
        ],
        [
         "12"
        ],
        [
         "-10"
        ],
        [
         "25"
        ],
        [
         "0"
        ],
        [
         "20"
        ],
        [
         "-10"
        ],
        [
         "25"
        ],
        [
         "0"
        ],
        [
         "15"
        ]
       ],
       "datasetInfos": [],
       "dbfsResultPath": null,
       "isJsonSchema": true,
       "metadata": {},
       "overflow": false,
       "plotOptions": {
        "customPlotOptions": {},
        "displayType": "table",
        "pivotAggregation": null,
        "pivotColumns": null,
        "xColumns": null,
        "yColumns": null
       },
       "removedWidgets": [],
       "schema": [
        {
         "metadata": "{}",
         "name": "ARR_DELAY",
         "type": "\"string\""
        }
       ],
       "type": "table"
      }
     },
     "output_type": "display_data"
    }
   ],
   "source": [
    "# Total count of entries for each category (e.g., total number of flights per CARRIER)\n",
    "total_flights_per_carrier = df.groupBy(\"CARRIER\").count()\n",
    "display(total_flights_per_carrier)\n",
    "\n",
    "# Histogram showing the distribution of ARR_DELAY\n",
    "display(df.select(\"ARR_DELAY\"))"
   ]
  },
  {
   "cell_type": "markdown",
   "metadata": {
    "application/vnd.databricks.v1+cell": {
     "cellMetadata": {},
     "inputWidgets": {},
     "nuid": "366ca0d7-49a6-432f-8197-54698951490b",
     "showTitle": false,
     "title": ""
    }
   },
   "source": [
    "Data Visualization using matploatlib and pyspark"
   ]
  },
  {
   "cell_type": "code",
   "execution_count": 0,
   "metadata": {
    "application/vnd.databricks.v1+cell": {
     "cellMetadata": {
      "byteLimit": 2048000,
      "rowLimit": 10000
     },
     "inputWidgets": {},
     "nuid": "d90fb984-783f-46c1-bb17-40125abc08df",
     "showTitle": false,
     "title": ""
    }
   },
   "outputs": [
    {
     "output_type": "display_data",
     "data": {
      "image/png": "[encoded data removed]",
      "text/plain": [
       "<Figure size 640x480 with 1 Axes>"
      ]
     },
     "metadata": {},
     "output_type": "display_data"
    }
   ],
   "source": [
    "import matplotlib.pyplot as plt\n",
    "\n",
    "df_grouped = df.groupby(\"CARRIER\").agg({\"ARR_DELAY\": \"avg\"})\n",
    "\n",
    "df_pandas = df_grouped.toPandas()\n",
    "\n",
    "df_pandas.plot(kind='bar', x='CARRIER', y='avg(ARR_DELAY)', legend=False)\n",
    "plt.title(\"Average Arrival Delay by Airline\")\n",
    "plt.xlabel(\"Airline\")\n",
    "plt.ylabel(\"Average Delay (minutes)\")\n",
    "plt.show()"
   ]
  },
  {
   "cell_type": "code",
   "execution_count": 0,
   "metadata": {
    "application/vnd.databricks.v1+cell": {
     "cellMetadata": {
      "byteLimit": 2048000,
      "rowLimit": 10000
     },
     "inputWidgets": {},
     "nuid": "1194e06f-7fa3-45d9-9ff2-b95d8ec40a6d",
     "showTitle": false,
     "title": ""
    }
   },
   "outputs": [
    {
     "output_type": "stream",
     "name": "stdout",
     "output_type": "stream",
     "text": [
      "+----------+------+--------+--------+-----+\n|      Date|Region| Product|Quantity|Price|\n+----------+------+--------+--------+-----+\n|2024-09-01| North|Widget A|      10|25.50|\n|2024-09-01| South|Widget B|       5|15.75|\n|2024-09-02| North|Widget A|      12|25.50|\n|2024-09-02|  East|Widget C|       8|22.50|\n|2024-09-03|  West|Widget A|      15|25.50|\n|2024-09-03| South|Widget B|      20|15.75|\n|2024-09-03|  East|Widget C|      10|22.50|\n|2024-09-04| North|Widget D|       7|30.00|\n|2024-09-04|  West|Widget B|       9|15.75|\n+----------+------+--------+--------+-----+\n\n"
     ]
    }
   ],
   "source": [
    "# Move the file from Workspace to DBFS\n",
    "dbutils.fs.cp(\"file:/Workspace/Shared/sales_data.csv\", \"dbfs:/FileStore/sales_data.csv\")\n",
    " \n",
    " \n",
    "# Load the file from DBFS\n",
    "df = spark.read.format(\"csv\").option(\"header\", \"true\").load(\"/FileStore/sales_data.csv\")\n",
    "df.show()"
   ]
  },
  {
   "cell_type": "code",
   "execution_count": 0,
   "metadata": {
    "application/vnd.databricks.v1+cell": {
     "cellMetadata": {
      "byteLimit": 2048000,
      "rowLimit": 10000
     },
     "inputWidgets": {},
     "nuid": "149625b3-d7ba-416d-9279-dd4661873c44",
     "showTitle": false,
     "title": ""
    }
   },
   "outputs": [],
   "source": [
    "# Create a SQL table from DataFrame\n",
    "df.write.saveAsTable(\"sales_table\")"
   ]
  },
  {
   "cell_type": "code",
   "execution_count": 0,
   "metadata": {
    "application/vnd.databricks.v1+cell": {
     "cellMetadata": {
      "byteLimit": 2048000,
      "rowLimit": 10000
     },
     "inputWidgets": {},
     "nuid": "7a2aac4f-56cc-479b-9345-7db2a857f019",
     "showTitle": false,
     "title": ""
    }
   },
   "outputs": [
    {
     "output_type": "stream",
     "name": "stdout",
     "output_type": "stream",
     "text": [
      "+----------+------+--------+--------+-----+\n|      Date|Region| Product|Quantity|Price|\n+----------+------+--------+--------+-----+\n|2024-09-01| North|Widget A|      10|25.50|\n|2024-09-01| South|Widget B|       5|15.75|\n|2024-09-02| North|Widget A|      12|25.50|\n|2024-09-02|  East|Widget C|       8|22.50|\n|2024-09-03|  West|Widget A|      15|25.50|\n|2024-09-03| South|Widget B|      20|15.75|\n|2024-09-03|  East|Widget C|      10|22.50|\n|2024-09-04| North|Widget D|       7|30.00|\n|2024-09-04|  West|Widget B|       9|15.75|\n+----------+------+--------+--------+-----+\n\n"
     ]
    }
   ],
   "source": [
    "# Read the table using park SQL\n",
    "df_table = spark.read.table(\"sales_table\")\n",
    "df_table.show()"
   ]
  },
  {
   "cell_type": "code",
   "execution_count": 0,
   "metadata": {
    "application/vnd.databricks.v1+cell": {
     "cellMetadata": {
      "byteLimit": 2048000,
      "rowLimit": 10000
     },
     "inputWidgets": {},
     "nuid": "cce9df69-0424-4539-bdb4-b92acbdfcb69",
     "showTitle": false,
     "title": ""
    }
   },
   "outputs": [
    {
     "output_type": "stream",
     "name": "stdout",
     "output_type": "stream",
     "text": [
      "+----------+------+--------+--------+-----+\n|      Date|Region| Product|Quantity|Price|\n+----------+------+--------+--------+-----+\n|2024-09-01| North|Widget A|      10|25.50|\n|2024-09-01| South|Widget B|       5|15.75|\n|2024-09-02| North|Widget A|      12|25.50|\n|2024-09-02|  East|Widget C|       8|22.50|\n|2024-09-03|  West|Widget A|      15|25.50|\n|2024-09-03| South|Widget B|      20|15.75|\n|2024-09-03|  East|Widget C|      10|22.50|\n|2024-09-04| North|Widget D|       7|30.00|\n|2024-09-04|  West|Widget B|       9|15.75|\n+----------+------+--------+--------+-----+\n\n+----------+------+--------+--------+-----+\n|      Date|Region| Product|Quantity|Price|\n+----------+------+--------+--------+-----+\n|2024-09-02| North|Widget A|      12|25.50|\n|2024-09-03|  West|Widget A|      15|25.50|\n|2024-09-03| South|Widget B|      20|15.75|\n+----------+------+--------+--------+-----+\n\n"
     ]
    }
   ],
   "source": [
    "# Writing data to a Delta table\n",
    "df.write.format(\"delta\").mode(\"overwrite\").save(\"/Workspace/Shared/delta_sales_table\")\n",
    "\n",
    "# Reading data from a Delta table\n",
    "df_delta = spark.read.format(\"delta\").load(\"/Workspace/Shared/delta_sales_table\")\n",
    "df_delta.show()\n",
    "\n",
    "# Query Delta Table with SQL\n",
    "df_query = spark.sql(\"SELECT * FROM delta.`/Workspace/Shared/delta_sales_table` WHERE Quantity > 10\")\n",
    "df_query.show()"
   ]
  },
  {
   "cell_type": "markdown",
   "metadata": {
    "application/vnd.databricks.v1+cell": {
     "cellMetadata": {},
     "inputWidgets": {},
     "nuid": "89ca57c5-bac1-41e6-a7d1-bf76156805ab",
     "showTitle": false,
     "title": ""
    }
   },
   "source": [
    "with employee_data1.csv and product_data1.json"
   ]
  },
  {
   "cell_type": "code",
   "execution_count": 0,
   "metadata": {
    "application/vnd.databricks.v1+cell": {
     "cellMetadata": {
      "byteLimit": 2048000,
      "rowLimit": 10000
     },
     "inputWidgets": {},
     "nuid": "dfa58e93-14f1-4639-8a7c-0ccf1e1ad0dc",
     "showTitle": false,
     "title": ""
    }
   },
   "outputs": [],
   "source": [
    "from pyspark.sql.types import StructType, StructField, IntegerType, StringType, DoubleType\n",
    "\n",
    "# Define schema for JSON file\n",
    "schema = StructType([\n",
    "    StructField(\"ProductID\", IntegerType(), True),\n",
    "    StructField(\"ProductName\", StringType(), True),\n",
    "    StructField(\"Category\", StringType(), True),\n",
    "    StructField(\"Price\", DoubleType(), True),\n",
    "    StructField(\"Stock\", IntegerType(), True)\n",
    "])"
   ]
  },
  {
   "cell_type": "code",
   "execution_count": 0,
   "metadata": {
    "application/vnd.databricks.v1+cell": {
     "cellMetadata": {
      "byteLimit": 2048000,
      "rowLimit": 10000
     },
     "inputWidgets": {},
     "nuid": "8f71c86a-f08c-4498-8c4e-1fb7c0e88ecf",
     "showTitle": false,
     "title": ""
    }
   },
   "outputs": [
    {
     "output_type": "execute_result",
     "data": {
      "text/plain": [
       "True"
      ]
     },
     "execution_count": 2,
     "metadata": {},
     "output_type": "execute_result"
    }
   ],
   "source": [
    "# Move the file from Workspace to DBFS\n",
    "dbutils.fs.cp(\"file:/Workspace/Shared/product_data1.json\", \"dbfs:/FileStore/product_data.json\")"
   ]
  },
  {
   "cell_type": "code",
   "execution_count": 0,
   "metadata": {
    "application/vnd.databricks.v1+cell": {
     "cellMetadata": {
      "byteLimit": 2048000,
      "rowLimit": 10000
     },
     "inputWidgets": {},
     "nuid": "52055886-1451-4d9c-a059-8abc4b5ff241",
     "showTitle": false,
     "title": ""
    }
   },
   "outputs": [
    {
     "output_type": "stream",
     "name": "stdout",
     "output_type": "stream",
     "text": [
      "+---------+-----------+-----------+------+-----+\n|ProductID|ProductName|   Category| Price|Stock|\n+---------+-----------+-----------+------+-----+\n|      101|     Laptop|Electronics|1200.0|   35|\n|      102| Smartphone|Electronics| 800.0|   80|\n|      103| Desk Chair|  Furniture| 150.0|   60|\n|      104|    Monitor|Electronics| 300.0|   45|\n|      105|       Desk|  Furniture| 350.0|   25|\n+---------+-----------+-----------+------+-----+\n\n"
     ]
    }
   ],
   "source": [
    "# Load JSON data with schema\n",
    "df_product = spark.read.format(\"json\").schema(schema).load(\"dbfs:/FileStore/product_data.json\")\n",
    "df_product.show()"
   ]
  },
  {
   "cell_type": "code",
   "execution_count": 0,
   "metadata": {
    "application/vnd.databricks.v1+cell": {
     "cellMetadata": {
      "byteLimit": 2048000,
      "rowLimit": 10000
     },
     "inputWidgets": {},
     "nuid": "9f7bc7bd-bfc4-4406-b67a-8fefe1fc6bad",
     "showTitle": false,
     "title": ""
    }
   },
   "outputs": [
    {
     "output_type": "execute_result",
     "data": {
      "text/plain": [
       "DataFrame[num_affected_rows: bigint, num_inserted_rows: bigint]"
      ]
     },
     "execution_count": 9,
     "metadata": {},
     "output_type": "execute_result"
    }
   ],
   "source": [
    "# Create a temp view for SQL operations\n",
    "df_product.createOrReplaceTempView(\"product_view\")\n",
    "\n",
    "# Create a Delta table from the view\n",
    "spark.sql(\"\"\"\n",
    "CREATE TABLE IF NOT EXISTS\n",
    "delta_product_table\n",
    "USING DELTA\n",
    "AS SELECT * FROM product_view\n",
    "\"\"\")\n"
   ]
  },
  {
   "cell_type": "markdown",
   "metadata": {
    "application/vnd.databricks.v1+cell": {
     "cellMetadata": {},
     "inputWidgets": {},
     "nuid": "7837bac3-9be7-4193-9649-0c3ead0a4f32",
     "showTitle": false,
     "title": ""
    }
   },
   "source": [
    "Merge Into function"
   ]
  },
  {
   "cell_type": "code",
   "execution_count": 0,
   "metadata": {
    "application/vnd.databricks.v1+cell": {
     "cellMetadata": {
      "byteLimit": 2048000,
      "rowLimit": 10000
     },
     "inputWidgets": {},
     "nuid": "3c29161a-24c6-477f-adb2-c607d1703417",
     "showTitle": false,
     "title": ""
    }
   },
   "outputs": [
    {
     "output_type": "execute_result",
     "data": {
      "text/plain": [
       "True"
      ]
     },
     "execution_count": 11,
     "metadata": {},
     "output_type": "execute_result"
    }
   ],
   "source": [
    "# Move the file from Workspace to DBFS\n",
    "dbutils.fs.cp(\"file:/Workspace/Shared/employee_updates.csv\", \"dbfs:/FileStore/employee_updates.csv\")"
   ]
  },
  {
   "cell_type": "code",
   "execution_count": 0,
   "metadata": {
    "application/vnd.databricks.v1+cell": {
     "cellMetadata": {
      "byteLimit": 2048000,
      "rowLimit": 10000
     },
     "inputWidgets": {},
     "nuid": "e82ca725-fbaf-4714-a9fd-3867b580f2a5",
     "showTitle": false,
     "title": ""
    }
   },
   "outputs": [],
   "source": [
    "# Convert employee CSV data to Delta format\n",
    "df_employee = spark.read.format(\"csv\").option(\"header\", \"true\").load(\"/FileStore/employee_data.csv\")\n",
    "df_employee.write.format(\"delta\").mode(\"overwrite\").save(\"/delta/employee_data\")\n",
    "\n",
    "# Convert employee updates CSV data to Delta format\n",
    "df_employee_updates = spark.read.format(\"csv\").option(\"header\", \"true\").load(\"/FileStore/employee_updates.csv\")\n",
    "df_employee_updates.write.format(\"delta\").mode(\"overwrite\").save(\"/delta/employee_updates\")"
   ]
  },
  {
   "cell_type": "code",
   "execution_count": 0,
   "metadata": {
    "application/vnd.databricks.v1+cell": {
     "cellMetadata": {
      "byteLimit": 2048000,
      "rowLimit": 10000
     },
     "inputWidgets": {},
     "nuid": "7cea792a-c662-44b4-9c5f-b55f7a219604",
     "showTitle": false,
     "title": ""
    }
   },
   "outputs": [],
   "source": [
    "# Load Delta tables\n",
    "df_employee = spark.read.format(\"delta\").load(\"/delta/employee_data\")\n",
    "df_employee_updates = spark.read.format(\"delta\").load(\"/delta/employee_updates\")\n",
    "\n",
    "# Create temporary views for SQL operations\n",
    "df_employee.createOrReplaceTempView(\"delta_employee\")\n",
    "df_employee_updates.createOrReplaceTempView(\"employee_updates\")"
   ]
  },
  {
   "cell_type": "code",
   "execution_count": 0,
   "metadata": {
    "application/vnd.databricks.v1+cell": {
     "cellMetadata": {
      "byteLimit": 2048000,
      "rowLimit": 10000
     },
     "inputWidgets": {},
     "nuid": "7499251f-cc4a-45ee-a118-0879691c69c8",
     "showTitle": false,
     "title": ""
    }
   },
   "outputs": [
    {
     "output_type": "execute_result",
     "data": {
      "text/plain": [
       "DataFrame[num_affected_rows: bigint, num_updated_rows: bigint, num_deleted_rows: bigint, num_inserted_rows: bigint]"
      ]
     },
     "execution_count": 14,
     "metadata": {},
     "output_type": "execute_result"
    }
   ],
   "source": [
    "# Perform MERGE operation\n",
    "spark.sql(\"\"\"\n",
    "    MERGE INTO delta_employee AS target\n",
    "    USING employee_updates AS source\n",
    "    ON target.EmployeeID = source.EmployeeID\n",
    "    WHEN MATCHED THEN UPDATE SET target.Salary = source.Salary, target.Department = source.Department\n",
    "    WHEN NOT MATCHED THEN INSERT (EmployeeID, Name, Department, JoiningDate, Salary)\n",
    "    VALUES (source.EmployeeID, source.Name, source.Department, source.JoiningDate, source.Salary)\n",
    "\"\"\")"
   ]
  },
  {
   "cell_type": "code",
   "execution_count": 0,
   "metadata": {
    "application/vnd.databricks.v1+cell": {
     "cellMetadata": {
      "byteLimit": 2048000,
      "rowLimit": 10000
     },
     "inputWidgets": {},
     "nuid": "baafac08-05aa-458e-8d1d-50409e9010f2",
     "showTitle": false,
     "title": ""
    }
   },
   "outputs": [
    {
     "output_type": "stream",
     "name": "stdout",
     "output_type": "stream",
     "text": [
      "+----------+-------------+----------+-----------+------+\n|EmployeeID|         Name|Department|JoiningDate|Salary|\n+----------+-------------+----------+-----------+------+\n|      1002|   Jane Smith|        IT| 2020-03-10| 62000|\n|      1003|Emily Johnson|   Finance| 2019-07-01| 70000|\n|      1004|Michael Brown|        HR| 2018-12-22| 54000|\n|      1005| David Wilson|        IT| 2021-06-25| 58000|\n|      1006|  Linda Davis|   Finance| 2020-11-15| 67000|\n|      1007| James Miller|        IT| 2019-08-14| 65000|\n|      1008|Barbara Moore|        HR| 2021-03-29| 53000|\n|      1001|     John Doe|        HR| 2021-01-15| 58000|\n|      1009|  Sarah Adams| Marketing| 2021-09-01| 60000|\n|      1010|  Robert King|        IT| 2022-01-10| 62000|\n+----------+-------------+----------+-----------+------+\n\n"
     ]
    }
   ],
   "source": [
    "\n",
    "# Check if the data was updated or inserted correctly\n",
    "spark.sql(\"SELECT * FROM delta_employee\").show()"
   ]
  },
  {
   "cell_type": "code",
   "execution_count": 0,
   "metadata": {
    "application/vnd.databricks.v1+cell": {
     "cellMetadata": {
      "byteLimit": 2048000,
      "rowLimit": 10000
     },
     "inputWidgets": {},
     "nuid": "cb97d056-16a7-466f-b806-3729e422c85f",
     "showTitle": false,
     "title": ""
    }
   },
   "outputs": [
    {
     "output_type": "stream",
     "name": "stdout",
     "output_type": "stream",
     "text": [
      "+-------+-------------------+----------------+----------------------------------+---------+-------------------------------------------------------------------------------------------------------------------------------------------------------------------------------------------------------------------+----+------------------+--------------------+-----------+-----------------+-------------+------------------------------------------------------------------------------------------------------------------------------------------------------------------------------------------------------------------------------------------------------------------------------------------------------------------------------------------------------------------------------------------------------------------------------------------------------------------------------------------------------------------------------------------------------------------------------------------------------------------------------------------------------------------------------------+------------+------------------------------------------+\n|version|timestamp          |userId          |userName                          |operation|operationParameters                                                                                                                                                                                                |job |notebook          |clusterId           |readVersion|isolationLevel   |isBlindAppend|operationMetrics                                                                                                                                                                                                                                                                                                                                                                                                                                                                                                                                                                                                                                                                    |userMetadata|engineInfo                                |\n+-------+-------------------+----------------+----------------------------------+---------+-------------------------------------------------------------------------------------------------------------------------------------------------------------------------------------------------------------------+----+------------------+--------------------+-----------+-----------------+-------------+------------------------------------------------------------------------------------------------------------------------------------------------------------------------------------------------------------------------------------------------------------------------------------------------------------------------------------------------------------------------------------------------------------------------------------------------------------------------------------------------------------------------------------------------------------------------------------------------------------------------------------------------------------------------------------+------------+------------------------------------------+\n|3      |2024-09-13 07:00:51|8532116595080723|azuser2110_mml.local@techademy.com|WRITE    |{mode -> Overwrite, statsOnLoad -> false, partitionBy -> []}                                                                                                                                                       |NULL|{2848548995980053}|0911-102441-r0fo913u|2          |WriteSerializable|false        |{numFiles -> 1, numOutputRows -> 10, numOutputBytes -> 1662}                                                                                                                                                                                                                                                                                                                                                                                                                                                                                                                                                                                                                        |NULL        |Databricks-Runtime/15.4.x-photon-scala2.12|\n|2      |2024-09-12 11:49:04|8532116595080723|azuser2110_mml.local@techademy.com|OPTIMIZE |{predicate -> [], auto -> true, clusterBy -> [], zOrderBy -> [], batchId -> 0}                                                                                                                                     |NULL|{2848548995980053}|0911-102441-r0fo913u|1          |SnapshotIsolation|false        |{numRemovedFiles -> 2, numRemovedBytes -> 2899, p25FileSize -> 1662, numDeletionVectorsRemoved -> 1, minFileSize -> 1662, numAddedFiles -> 1, maxFileSize -> 1662, p75FileSize -> 1662, p50FileSize -> 1662, numAddedBytes -> 1662}                                                                                                                                                                                                                                                                                                                                                                                                                                                 |NULL        |Databricks-Runtime/15.4.x-photon-scala2.12|\n|1      |2024-09-12 11:49:02|8532116595080723|azuser2110_mml.local@techademy.com|MERGE    |{predicate -> [\"(EmployeeID#4420 = EmployeeID#4430)\"], matchedPredicates -> [{\"actionType\":\"update\"}], statsOnLoad -> false, notMatchedBySourcePredicates -> [], notMatchedPredicates -> [{\"actionType\":\"insert\"}]}|NULL|{2848548995980053}|0911-102441-r0fo913u|0          |WriteSerializable|false        |{numTargetRowsCopied -> 0, numTargetRowsDeleted -> 0, numTargetFilesAdded -> 1, numTargetBytesAdded -> 1342, numTargetBytesRemoved -> 0, numTargetDeletionVectorsAdded -> 1, numTargetRowsMatchedUpdated -> 1, executionTimeMs -> 2480, materializeSourceTimeMs -> 293, numTargetRowsInserted -> 2, numTargetRowsMatchedDeleted -> 0, numTargetDeletionVectorsUpdated -> 0, scanTimeMs -> 977, numTargetRowsUpdated -> 1, numOutputRows -> 3, numTargetDeletionVectorsRemoved -> 0, numTargetRowsNotMatchedBySourceUpdated -> 0, numTargetChangeFilesAdded -> 0, numSourceRows -> 3, numTargetFilesRemoved -> 0, numTargetRowsNotMatchedBySourceDeleted -> 0, rewriteTimeMs -> 1171}|NULL        |Databricks-Runtime/15.4.x-photon-scala2.12|\n|0      |2024-09-12 11:48:45|8532116595080723|azuser2110_mml.local@techademy.com|WRITE    |{mode -> Overwrite, statsOnLoad -> false, partitionBy -> []}                                                                                                                                                       |NULL|{2848548995980053}|0911-102441-r0fo913u|NULL       |WriteSerializable|false        |{numFiles -> 1, numOutputRows -> 8, numOutputBytes -> 1557}                                                                                                                                                                                                                                                                                                                                                                                                                                                                                                                                                                                                                         |NULL        |Databricks-Runtime/15.4.x-photon-scala2.12|\n+-------+-------------------+----------------+----------------------------------+---------+-------------------------------------------------------------------------------------------------------------------------------------------------------------------------------------------------------------------+----+------------------+--------------------+-----------+-----------------+-------------+------------------------------------------------------------------------------------------------------------------------------------------------------------------------------------------------------------------------------------------------------------------------------------------------------------------------------------------------------------------------------------------------------------------------------------------------------------------------------------------------------------------------------------------------------------------------------------------------------------------------------------------------------------------------------------+------------+------------------------------------------+\n\n"
     ]
    },
    {
     "output_type": "execute_result",
     "data": {
      "text/plain": [
       "DataFrame[path: string, metrics: struct<numFilesAdded:bigint,numFilesRemoved:bigint,filesAdded:struct<min:bigint,max:bigint,avg:double,totalFiles:bigint,totalSize:bigint>,filesRemoved:struct<min:bigint,max:bigint,avg:double,totalFiles:bigint,totalSize:bigint>,partitionsOptimized:bigint,zOrderStats:struct<strategyName:string,inputCubeFiles:struct<num:bigint,size:bigint>,inputOtherFiles:struct<num:bigint,size:bigint>,inputNumCubes:bigint,mergedFiles:struct<num:bigint,size:bigint>,numOutputCubes:bigint,mergedNumCubes:bigint>,clusteringStats:struct<inputZCubeFiles:struct<numFiles:bigint,size:bigint>,inputOtherFiles:struct<numFiles:bigint,size:bigint>,inputNumZCubes:bigint,mergedFiles:struct<numFiles:bigint,size:bigint>,numOutputZCubes:bigint>,numBins:bigint,numBatches:bigint,totalConsideredFiles:bigint,totalFilesSkipped:bigint,preserveInsertionOrder:boolean,numFilesSkippedToReduceWriteAmplification:bigint,numBytesSkippedToReduceWriteAmplification:bigint,startTimeMs:bigint,endTimeMs:bigint,totalClusterParallelism:bigint,totalScheduledTasks:bigint,autoCompactParallelismStats:struct<maxClusterActiveParallelism:bigint,minClusterActiveParallelism:bigint,maxSessionActiveParallelism:bigint,minSessionActiveParallelism:bigint>,deletionVectorStats:struct<numDeletionVectorsRemoved:bigint,numDeletionVectorRowsRemoved:bigint>,numTableColumns:bigint,numTableColumnsWithStats:bigint,totalTaskExecutionTimeMs:bigint,skippedArchivedFiles:bigint,clusteringMetrics:struct<sizeOfTableInBytesBeforeLazyClustering:bigint,isNewMetadataCreated:boolean,isPOTriggered:boolean,numFilesSkippedWithoutStats:bigint,numFilesClassifiedToIntermediateNodes:bigint,sizeOfFilesClassifiedToIntermediateNodesInBytes:bigint,logicalSizeOfFilesClassifiedToIntermediateNodesInBytes:bigint,numFilesClassifiedToLeafNodes:bigint,sizeOfFilesClassifiedToLeafNodesInBytes:bigint,logicalSizeOfFilesClassifiedToLeafNodesInBytes:bigint,numThreadsForClassifier:int,clusterThresholdStrategy:string,minFileSize:bigint,maxFileSize:bigint,nodeMinNumFilesToCompact:bigint,numIdealFiles:bigint,numClusteringTasksPlanned:int,numCompactionTasksPlanned:int,numOptimizeBatchesPlanned:int,numLeafNodesExpanded:bigint,numLeafNodesClustered:bigint,numGetFilesForNodeCalls:bigint,numSamplingJobs:bigint,numLeafNodesCompacted:bigint,numIntermediateNodesCompacted:bigint,totalSizeOfDataToCompactInBytes:bigint,totalLogicalSizeOfDataToCompactInBytes:bigint,numIntermediateNodesClustered:bigint,numFilesSkippedAfterExpansion:bigint,totalSizeOfFilesSkippedAfterExpansionInBytes:bigint,totalLogicalSizeOfFilesSkippedAfterExpansionInBytes:bigint,totalSizeOfDataToRewriteInBytes:bigint,totalLogicalSizeOfDataToRewriteInBytes:bigint,timeMetrics:struct<classifierTimeMs:bigint,optimizerTimeMs:bigint,metadataLoadTimeMs:bigint,totalGetFilesForNodeCallsTimeMs:bigint,totalSamplingTimeMs:bigint,metadataCreationTimeMs:bigint>,maxOptimizeBatchesInParallel:bigint,currentIteration:int,maxIterations:int,clusteringStrategy:string>>]"
      ]
     },
     "execution_count": 8,
     "metadata": {},
     "output_type": "execute_result"
    }
   ],
   "source": [
    "# Write the employee DataFrame to a Delta Table\n",
    "df_employee.write.format(\"delta\").mode(\"overwrite\").save(\"/delta/employee_data\")\n",
    "\n",
    "# Register the Delta Table\n",
    "spark.sql(\"CREATE TABLE IF NOT EXISTS delta_employee_table USING DELTA LOCATION '/delta/employee_data'\")\n",
    "\n",
    "# Optimize the Delta Table\n",
    "spark.sql(\"OPTIMIZE delta_employee_table\")\n",
    "\n",
    "# Describe the history of the Delta Table\n",
    "spark.sql(\"DESCRIBE HISTORY delta_employee_table\").show(truncate=False)\n",
    "\n",
    "# Optimize the Delta Table with Z-ORDER BY\n",
    "spark.sql(\"OPTIMIZE delta_employee_table ZORDER BY Department\")"
   ]
  }
 ],
 "metadata": {
  "application/vnd.databricks.v1+notebook": {
   "dashboards": [],
   "environmentMetadata": {
    "base_environment": "",
    "client": "1"
   },
   "language": "python",
   "notebookMetadata": {
    "pythonIndentUnit": 4
   },
   "notebookName": "Untitled Notebook 2024-09-11 15:59:15",
   "widgets": {}
  }
 },
 "nbformat": 4,
 "nbformat_minor": 0
}
